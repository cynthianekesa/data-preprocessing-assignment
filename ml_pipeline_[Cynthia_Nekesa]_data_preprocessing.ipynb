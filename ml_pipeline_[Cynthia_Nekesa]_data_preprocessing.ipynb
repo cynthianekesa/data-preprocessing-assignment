{
  "cells": [
    {
      "cell_type": "markdown",
      "metadata": {
        "id": "view-in-github",
        "colab_type": "text"
      },
      "source": [
        "<a href=\"https://colab.research.google.com/github/cynthianekesa/data-preprocessing-assignment/blob/main/ml_pipeline_%5BCynthia_Nekesa%5D_data_preprocessing.ipynb\" target=\"_parent\"><img src=\"https://colab.research.google.com/assets/colab-badge.svg\" alt=\"Open In Colab\"/></a>"
      ]
    },
    {
      "cell_type": "markdown",
      "metadata": {
        "id": "37BV7-CMEbMj"
      },
      "source": [
        "#**Data Processing Approach for Portfolio Project**\n",
        "\n",
        "## **Project Title**: *Waste Segregation Model*\n",
        "\n",
        "## **Student Name**: *Cynthia Nekesa*\n",
        "\n",
        "---\n",
        "\n",
        "1. **Data Sources and Aggregation:**\n",
        "   - *List all sources of data for the project. **You must consider sources outside kaggle, google datasets** (insert links where necessary to online platforms,research papers etc)*\n",
        "\n",
        "   IEEE Xplore Digital Hub-https://ieeexplore.ieee.org/document/8663148\n",
        "\n",
        "   Roboflow Data-https://universe.roboflow.com/trash-dataset-for-oriented-bounded-box/trash-detection-1fjjc/dataset/14/download\n",
        "\n",
        "   Recycling Dataset-https://web.cecs.pdx.edu/~singh/rcyc-web/dataset.html\n",
        "\n",
        "   Trashcan Dataset-https://conservancy.umn.edu/items/6dd6a960-c44a-4510-a679-efb8c82ebfb7\n",
        "\n",
        "   Refined waste classification data-https://data.mendeley.com/datasets/n3gtgm9jxj/3\n",
        "   \n",
        "   - *Determine if data aggregation from multiple sources is necessary for comprehensive analysis.*\n",
        "  \n",
        "  Data aggregation from multiple sources helps improve the accuracy of a classification model by providing a richer and more diverse dataset. Different sources may have different biases; by combining data from various sources, one can minimize the impact of any single source's bias, leading to a more balanced and fair analysis. No single source is likely to capture all relevant aspects of the data needed for classification; aggregating data ensures a more comprehensive coverage of the features and variations within the dataset. A dataset aggregated from multiple sources is more likely to capture the variability in real-world scenarios, helping the classification model generalize better to new, unseen data. Aggregating data can make a classification model more robust by incorporating different types of data and reducing the risk of overfitting to a particular dataset.\n",
        "\n"
      ],
      "id": "37BV7-CMEbMj"
    },
    {
      "cell_type": "code",
      "source": [
        "!pip install roboflow\n",
        "\n",
        "from roboflow import Roboflow\n",
        "rf = Roboflow(api_key=\"unauthorized\")\n",
        "project = rf.workspace(\"trash-dataset-for-oriented-bounded-box\").project(\"trash-detection-1fjjc\")\n",
        "version = project.version(14)\n",
        "dataset = version.download(\"tensorflow\")\n"
      ],
      "metadata": {
        "id": "MBjjwdL1ne8E"
      },
      "id": "MBjjwdL1ne8E",
      "execution_count": null,
      "outputs": []
    },
    {
      "cell_type": "code",
      "source": [
        "from google.colab import drive\n",
        "drive.mount('/content/drive')"
      ],
      "metadata": {
        "colab": {
          "base_uri": "https://localhost:8080/"
        },
        "id": "y3tq0R1g_hrM",
        "outputId": "051a3aac-e7bf-4e59-929a-46b401c1d36e"
      },
      "id": "y3tq0R1g_hrM",
      "execution_count": null,
      "outputs": [
        {
          "output_type": "stream",
          "name": "stdout",
          "text": [
            "Mounted at /content/drive\n"
          ]
        }
      ]
    },
    {
      "cell_type": "code",
      "source": [
        "import zipfile\n",
        "import os\n",
        "import shutil\n",
        "\n",
        "def extract_images_from_zip(zip_files, output_dir):\n",
        "    if not os.path.exists(output_dir):\n",
        "        os.makedirs(output_dir)\n",
        "\n",
        "    for zip_file in zip_files:\n",
        "        with zipfile.ZipFile(zip_file, 'r') as zip_ref:\n",
        "            for file_name in zip_ref.namelist():\n",
        "                if file_name.lower().endswith(('.png', '.jpg', '.jpeg', '.gif', '.bmp', '.tiff')):\n",
        "                    zip_ref.extract(file_name, output_dir)\n",
        "\n",
        "# Example usage\n",
        "zip_files = ['data 1.zip', 'data 2.zip', 'dataset 3.zip', 'dataset 4.zip', 'dataset 5.zip']  # List of zip files\n",
        "output_dir = 'aggregated_images'  # Directory to store all images\n",
        "\n",
        "extract_images_from_zip(zip_files, output_dir)\n",
        "\n",
        "print(f\"All images have been extracted to {output_dir} directory.\")\n"
      ],
      "metadata": {
        "colab": {
          "base_uri": "https://localhost:8080/",
          "height": 356
        },
        "id": "8WTKI3br_xui",
        "outputId": "4f9a24bf-c519-46e4-d363-8ea28e3742ee"
      },
      "id": "8WTKI3br_xui",
      "execution_count": null,
      "outputs": [
        {
          "output_type": "error",
          "ename": "BadZipFile",
          "evalue": "File is not a zip file",
          "traceback": [
            "\u001b[0;31m---------------------------------------------------------------------------\u001b[0m",
            "\u001b[0;31mBadZipFile\u001b[0m                                Traceback (most recent call last)",
            "\u001b[0;32m<ipython-input-3-86732a7e4ff4>\u001b[0m in \u001b[0;36m<cell line: 19>\u001b[0;34m()\u001b[0m\n\u001b[1;32m     17\u001b[0m \u001b[0moutput_dir\u001b[0m \u001b[0;34m=\u001b[0m \u001b[0;34m'aggregated_images'\u001b[0m  \u001b[0;31m# Directory to store all images\u001b[0m\u001b[0;34m\u001b[0m\u001b[0;34m\u001b[0m\u001b[0m\n\u001b[1;32m     18\u001b[0m \u001b[0;34m\u001b[0m\u001b[0m\n\u001b[0;32m---> 19\u001b[0;31m \u001b[0mextract_images_from_zip\u001b[0m\u001b[0;34m(\u001b[0m\u001b[0mzip_files\u001b[0m\u001b[0;34m,\u001b[0m \u001b[0moutput_dir\u001b[0m\u001b[0;34m)\u001b[0m\u001b[0;34m\u001b[0m\u001b[0;34m\u001b[0m\u001b[0m\n\u001b[0m\u001b[1;32m     20\u001b[0m \u001b[0;34m\u001b[0m\u001b[0m\n\u001b[1;32m     21\u001b[0m \u001b[0mprint\u001b[0m\u001b[0;34m(\u001b[0m\u001b[0;34mf\"All images have been extracted to {output_dir} directory.\"\u001b[0m\u001b[0;34m)\u001b[0m\u001b[0;34m\u001b[0m\u001b[0;34m\u001b[0m\u001b[0m\n",
            "\u001b[0;32m<ipython-input-3-86732a7e4ff4>\u001b[0m in \u001b[0;36mextract_images_from_zip\u001b[0;34m(zip_files, output_dir)\u001b[0m\n\u001b[1;32m      8\u001b[0m \u001b[0;34m\u001b[0m\u001b[0m\n\u001b[1;32m      9\u001b[0m     \u001b[0;32mfor\u001b[0m \u001b[0mzip_file\u001b[0m \u001b[0;32min\u001b[0m \u001b[0mzip_files\u001b[0m\u001b[0;34m:\u001b[0m\u001b[0;34m\u001b[0m\u001b[0;34m\u001b[0m\u001b[0m\n\u001b[0;32m---> 10\u001b[0;31m         \u001b[0;32mwith\u001b[0m \u001b[0mzipfile\u001b[0m\u001b[0;34m.\u001b[0m\u001b[0mZipFile\u001b[0m\u001b[0;34m(\u001b[0m\u001b[0mzip_file\u001b[0m\u001b[0;34m,\u001b[0m \u001b[0;34m'r'\u001b[0m\u001b[0;34m)\u001b[0m \u001b[0;32mas\u001b[0m \u001b[0mzip_ref\u001b[0m\u001b[0;34m:\u001b[0m\u001b[0;34m\u001b[0m\u001b[0;34m\u001b[0m\u001b[0m\n\u001b[0m\u001b[1;32m     11\u001b[0m             \u001b[0;32mfor\u001b[0m \u001b[0mfile_name\u001b[0m \u001b[0;32min\u001b[0m \u001b[0mzip_ref\u001b[0m\u001b[0;34m.\u001b[0m\u001b[0mnamelist\u001b[0m\u001b[0;34m(\u001b[0m\u001b[0;34m)\u001b[0m\u001b[0;34m:\u001b[0m\u001b[0;34m\u001b[0m\u001b[0;34m\u001b[0m\u001b[0m\n\u001b[1;32m     12\u001b[0m                 \u001b[0;32mif\u001b[0m \u001b[0mfile_name\u001b[0m\u001b[0;34m.\u001b[0m\u001b[0mlower\u001b[0m\u001b[0;34m(\u001b[0m\u001b[0;34m)\u001b[0m\u001b[0;34m.\u001b[0m\u001b[0mendswith\u001b[0m\u001b[0;34m(\u001b[0m\u001b[0;34m(\u001b[0m\u001b[0;34m'.png'\u001b[0m\u001b[0;34m,\u001b[0m \u001b[0;34m'.jpg'\u001b[0m\u001b[0;34m,\u001b[0m \u001b[0;34m'.jpeg'\u001b[0m\u001b[0;34m,\u001b[0m \u001b[0;34m'.gif'\u001b[0m\u001b[0;34m,\u001b[0m \u001b[0;34m'.bmp'\u001b[0m\u001b[0;34m,\u001b[0m \u001b[0;34m'.tiff'\u001b[0m\u001b[0;34m)\u001b[0m\u001b[0;34m)\u001b[0m\u001b[0;34m:\u001b[0m\u001b[0;34m\u001b[0m\u001b[0;34m\u001b[0m\u001b[0m\n",
            "\u001b[0;32m/usr/lib/python3.10/zipfile.py\u001b[0m in \u001b[0;36m__init__\u001b[0;34m(self, file, mode, compression, allowZip64, compresslevel, strict_timestamps)\u001b[0m\n\u001b[1;32m   1270\u001b[0m         \u001b[0;32mtry\u001b[0m\u001b[0;34m:\u001b[0m\u001b[0;34m\u001b[0m\u001b[0;34m\u001b[0m\u001b[0m\n\u001b[1;32m   1271\u001b[0m             \u001b[0;32mif\u001b[0m \u001b[0mmode\u001b[0m \u001b[0;34m==\u001b[0m \u001b[0;34m'r'\u001b[0m\u001b[0;34m:\u001b[0m\u001b[0;34m\u001b[0m\u001b[0;34m\u001b[0m\u001b[0m\n\u001b[0;32m-> 1272\u001b[0;31m                 \u001b[0mself\u001b[0m\u001b[0;34m.\u001b[0m\u001b[0m_RealGetContents\u001b[0m\u001b[0;34m(\u001b[0m\u001b[0;34m)\u001b[0m\u001b[0;34m\u001b[0m\u001b[0;34m\u001b[0m\u001b[0m\n\u001b[0m\u001b[1;32m   1273\u001b[0m             \u001b[0;32melif\u001b[0m \u001b[0mmode\u001b[0m \u001b[0;32min\u001b[0m \u001b[0;34m(\u001b[0m\u001b[0;34m'w'\u001b[0m\u001b[0;34m,\u001b[0m \u001b[0;34m'x'\u001b[0m\u001b[0;34m)\u001b[0m\u001b[0;34m:\u001b[0m\u001b[0;34m\u001b[0m\u001b[0;34m\u001b[0m\u001b[0m\n\u001b[1;32m   1274\u001b[0m                 \u001b[0;31m# set the modified flag so central directory gets written\u001b[0m\u001b[0;34m\u001b[0m\u001b[0;34m\u001b[0m\u001b[0m\n",
            "\u001b[0;32m/usr/lib/python3.10/zipfile.py\u001b[0m in \u001b[0;36m_RealGetContents\u001b[0;34m(self)\u001b[0m\n\u001b[1;32m   1337\u001b[0m             \u001b[0;32mraise\u001b[0m \u001b[0mBadZipFile\u001b[0m\u001b[0;34m(\u001b[0m\u001b[0;34m\"File is not a zip file\"\u001b[0m\u001b[0;34m)\u001b[0m\u001b[0;34m\u001b[0m\u001b[0;34m\u001b[0m\u001b[0m\n\u001b[1;32m   1338\u001b[0m         \u001b[0;32mif\u001b[0m \u001b[0;32mnot\u001b[0m \u001b[0mendrec\u001b[0m\u001b[0;34m:\u001b[0m\u001b[0;34m\u001b[0m\u001b[0;34m\u001b[0m\u001b[0m\n\u001b[0;32m-> 1339\u001b[0;31m             \u001b[0;32mraise\u001b[0m \u001b[0mBadZipFile\u001b[0m\u001b[0;34m(\u001b[0m\u001b[0;34m\"File is not a zip file\"\u001b[0m\u001b[0;34m)\u001b[0m\u001b[0;34m\u001b[0m\u001b[0;34m\u001b[0m\u001b[0m\n\u001b[0m\u001b[1;32m   1340\u001b[0m         \u001b[0;32mif\u001b[0m \u001b[0mself\u001b[0m\u001b[0;34m.\u001b[0m\u001b[0mdebug\u001b[0m \u001b[0;34m>\u001b[0m \u001b[0;36m1\u001b[0m\u001b[0;34m:\u001b[0m\u001b[0;34m\u001b[0m\u001b[0;34m\u001b[0m\u001b[0m\n\u001b[1;32m   1341\u001b[0m             \u001b[0mprint\u001b[0m\u001b[0;34m(\u001b[0m\u001b[0mendrec\u001b[0m\u001b[0;34m)\u001b[0m\u001b[0;34m\u001b[0m\u001b[0;34m\u001b[0m\u001b[0m\n",
            "\u001b[0;31mBadZipFile\u001b[0m: File is not a zip file"
          ]
        }
      ]
    },
    {
      "source": [
        "import zipfile\n",
        "import os\n",
        "import shutil\n",
        "\n",
        "def extract_images_from_zip(zip_files, output_dir):\n",
        "    if not os.path.exists(output_dir):\n",
        "        os.makedirs(output_dir)\n",
        "\n",
        "    for zip_file in zip_files:\n",
        "        # Check if the file exists and is a valid zip file\n",
        "        if not os.path.exists(zip_file):\n",
        "            print(f\"Warning: File not found: {zip_file}. Skipping...\")\n",
        "            continue  # Skip to the next file\n",
        "\n",
        "        try:\n",
        "            with zipfile.ZipFile(zip_file, 'r') as zip_ref:\n",
        "                for file_name in zip_ref.namelist():\n",
        "                    if file_name.lower().endswith(('.png', '.jpg', '.jpeg', '.gif', '.bmp', '.tiff')):\n",
        "                        zip_ref.extract(file_name, output_dir)\n",
        "        except zipfile.BadZipFile:\n",
        "            print(f\"Warning: Invalid zip file: {zip_file}. Skipping...\")\n",
        "            continue  # Skip to the next file\n",
        "\n",
        "# Example usage\n",
        "zip_files = ['data 1.zip', 'data 2.zip', 'dataset 3.zip', 'dataset 4.zip', 'dataset 5.zip']  # List of zip files\n",
        "output_dir = 'aggregated_images'  # Directory to store all images\n",
        "\n",
        "extract_images_from_zip(zip_files, output_dir)\n",
        "\n",
        "print(f\"All images have been extracted to {output_dir} directory.\")"
      ],
      "cell_type": "code",
      "metadata": {
        "colab": {
          "base_uri": "https://localhost:8080/"
        },
        "id": "wPfjC2SwHpDr",
        "outputId": "5b453e21-6026-4f62-e2c1-79bc900a8edf"
      },
      "id": "wPfjC2SwHpDr",
      "execution_count": 6,
      "outputs": [
        {
          "output_type": "stream",
          "name": "stdout",
          "text": [
            "Warning: Invalid zip file: data 1.zip. Skipping...\n",
            "Warning: Invalid zip file: data 2.zip. Skipping...\n",
            "Warning: Invalid zip file: dataset 3.zip. Skipping...\n",
            "Warning: Invalid zip file: dataset 4.zip. Skipping...\n",
            "Warning: Invalid zip file: dataset 5.zip. Skipping...\n",
            "All images have been extracted to aggregated_images directory.\n"
          ]
        }
      ]
    },
    {
      "cell_type": "markdown",
      "source": [
        "\n",
        "\n",
        "2. **Data Format Transformation:**\n",
        "   - *Describe the current format of the data.*\n",
        "   \n",
        "\n",
        "   - Outline the planned transformation to a unified format suitable for analysis and modeling.\n",
        "\n",
        " **Your answer for data transformation goes here **\n",
        "\n",
        "3. **Data Exploration:**\n",
        "   - Enumerate the features included in the dataset.\n",
        "   \n",
        "   - Summarize findings from exploratory data analysis (EDA) including distributions, correlations, and outliers.\n",
        "   \n",
        "  **Insert code for data exploration below**\n"
      ],
      "metadata": {
        "id": "TzyeghJDEjit"
      },
      "id": "TzyeghJDEjit"
    },
    {
      "cell_type": "code",
      "source": [
        "#insert code if necessary\n"
      ],
      "metadata": {
        "id": "K6W_BkY6FGRL"
      },
      "id": "K6W_BkY6FGRL",
      "execution_count": null,
      "outputs": []
    },
    {
      "cell_type": "code",
      "source": [
        "#Include plots for EDA\n",
        "'/content/aggregated_images'\n"
      ],
      "metadata": {
        "id": "oYEgIOxSFUHW"
      },
      "id": "oYEgIOxSFUHW",
      "execution_count": null,
      "outputs": []
    },
    {
      "cell_type": "markdown",
      "source": [
        "\n",
        "\n",
        "4. **Hypothesis Testing:**\n",
        "   - State any preexisting hypotheses about the data.\n",
        "   - Explain methodologies to empirically test these hypotheses.\n",
        "\n",
        "   **Your answer for Hypothesis Testing goes here **\n",
        "\n",
        "5. **Handling Sparse/Dense Data and Outliers:**\n",
        "   - Assess the density of the data.\n",
        "   - Propose strategies to handle missing data and outliers while maintaining dataset integrity.\n",
        "\n",
        "   **Insert code for Handling Sparse/Dense Data and Outliers below**"
      ],
      "metadata": {
        "id": "tHKtxjFKFNpB"
      },
      "id": "tHKtxjFKFNpB"
    },
    {
      "cell_type": "code",
      "source": [],
      "metadata": {
        "id": "f_R52s5RE_wj"
      },
      "id": "f_R52s5RE_wj",
      "execution_count": null,
      "outputs": []
    },
    {
      "cell_type": "markdown",
      "source": [
        "6. **Data Splitting:**\n",
        "   - Define a methodology to split the dataset into training, validation, and testing sets.\n",
        "   - Ensure randomness and representativeness in each subset.\n",
        "\n",
        "7. **Bias Mitigation:**\n",
        "   - Implement techniques to identify and mitigate biases in the dataset.\n",
        "   - Ensure fairness and equity in data representation.\n",
        "   \n",
        "    **Your answer for Hypothesis Testing goes here **\n",
        "\n"
      ],
      "metadata": {
        "id": "5SS3lD0sGPGe"
      },
      "id": "5SS3lD0sGPGe"
    },
    {
      "cell_type": "code",
      "source": [],
      "metadata": {
        "id": "iX_5Hl65GEgY"
      },
      "id": "iX_5Hl65GEgY",
      "execution_count": null,
      "outputs": []
    },
    {
      "cell_type": "markdown",
      "source": [
        "8. **Features for Model Training:**\n",
        "   - Identify relevant features for training the model.\n",
        "   - Rank features based on their significance to project objectives.\n",
        "\n",
        " **Your answer for features must be plotted/ show your working code-wise **\n",
        "9. **Types of Data Handling:**\n",
        "   - Classify the types of data (categorical, numerical, etc.) present in the dataset.\n",
        "   - Plan preprocessing steps for each data type.\n",
        "\n",
        "   [**insert text for preprocessing steps**]\n"
      ],
      "metadata": {
        "id": "OzGrkCCXGUxV"
      },
      "id": "OzGrkCCXGUxV"
    },
    {
      "cell_type": "code",
      "source": [
        "#print out relevant features"
      ],
      "metadata": {
        "id": "YNkqADAQGbNZ"
      },
      "id": "YNkqADAQGbNZ",
      "execution_count": null,
      "outputs": []
    },
    {
      "cell_type": "markdown",
      "source": [
        "\n",
        "10. **Data Transformation for Modeling:**\n",
        "    - Specify methods for transforming raw data into a model-friendly format.\n",
        "    - Detail steps for normalization, scaling, or encoding categorical variables.\n",
        "\n",
        "11. **Data Storage:**\n",
        "    - Determine where and how processed data will be stored.\n",
        "    - Choose suitable storage solutions ensuring accessibility and security.\n",
        "\n",
        "---\n",
        "\n",
        "#### Notes:\n",
        "- This template provides a structured framework for documenting your data processing approach for the portfolio project.\n",
        "- Fill out each section with specific details relevant to your project's requirements and objectives.\n",
        "- Use additional cells as needed to provide comprehensive information."
      ],
      "metadata": {
        "id": "lG_mx92GGX6W"
      },
      "id": "lG_mx92GGX6W"
    }
  ],
  "metadata": {
    "kernelspec": {
      "display_name": "Python 3",
      "language": "python",
      "name": "python3"
    },
    "language_info": {
      "codemirror_mode": {
        "name": "ipython",
        "version": 3
      },
      "file_extension": ".py",
      "mimetype": "text/x-python",
      "name": "python",
      "nbconvert_exporter": "python",
      "pygments_lexer": "ipython3",
      "version": "3.9.7"
    },
    "colab": {
      "provenance": [],
      "include_colab_link": true
    }
  },
  "nbformat": 4,
  "nbformat_minor": 5
}